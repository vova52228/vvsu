{
  "nbformat": 4,
  "nbformat_minor": 0,
  "metadata": {
    "colab": {
      "provenance": [],
      "authorship_tag": "ABX9TyNvif8M+b450JCzEoXB9ZMI",
      "include_colab_link": true
    },
    "kernelspec": {
      "name": "python3",
      "display_name": "Python 3"
    },
    "language_info": {
      "name": "python"
    }
  },
  "cells": [
    {
      "cell_type": "markdown",
      "metadata": {
        "id": "view-in-github",
        "colab_type": "text"
      },
      "source": [
        "<a href=\"https://colab.research.google.com/github/vova52228/vvsu/blob/main/%D0%91%D0%98%D0%9A_24_%D0%98%D0%92_2_%D0%9B%D0%912.ipynb\" target=\"_parent\"><img src=\"https://colab.research.google.com/assets/colab-badge.svg\" alt=\"Open In Colab\"/></a>"
      ]
    },
    {
      "cell_type": "code",
      "execution_count": 4,
      "metadata": {
        "colab": {
          "base_uri": "https://localhost:8080/"
        },
        "id": "hLQsg32lAyYF",
        "outputId": "1261fef0-7933-43fb-b260-8ae7a67eac6c"
      },
      "outputs": [
        {
          "output_type": "stream",
          "name": "stdout",
          "text": [
            "10.0\n"
          ]
        }
      ],
      "source": [
        "a = 4\n",
        "b = 5\n",
        "S = a * b / 2\n",
        "print (S)"
      ]
    },
    {
      "cell_type": "code",
      "source": [
        "abc = 456\n",
        "ab = 456 // 10\n",
        "a = ab // 10\n",
        "b = ab % 10\n",
        "c = 456 % 10\n",
        "print (a, b, c)"
      ],
      "metadata": {
        "colab": {
          "base_uri": "https://localhost:8080/"
        },
        "id": "3hyCcbG3LUV8",
        "outputId": "003d1b9c-7658-4c91-831b-6cab2d6e1c2c"
      },
      "execution_count": 5,
      "outputs": [
        {
          "output_type": "stream",
          "name": "stdout",
          "text": [
            "4 5 6\n"
          ]
        }
      ]
    },
    {
      "cell_type": "code",
      "source": [
        "n = 10000\n",
        "a = n // 3600\n",
        "b = n // 60 % 60\n",
        "c = n % 60\n",
        "print (\"Сейчас\", a, \":\",b, \":\",c)"
      ],
      "metadata": {
        "colab": {
          "base_uri": "https://localhost:8080/"
        },
        "id": "IFQnUNJmNw2i",
        "outputId": "99d78de1-a16d-4efd-8f68-a9e222e057bf"
      },
      "execution_count": 44,
      "outputs": [
        {
          "output_type": "stream",
          "name": "stdout",
          "text": [
            "Сейчас 2 : 46 : 40\n"
          ]
        }
      ]
    },
    {
      "cell_type": "code",
      "source": [],
      "metadata": {
        "id": "6uOkrHvEPZHk"
      },
      "execution_count": null,
      "outputs": []
    }
  ]
}